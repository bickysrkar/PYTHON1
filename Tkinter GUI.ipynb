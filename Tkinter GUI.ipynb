{
 "cells": [
  {
   "cell_type": "code",
   "execution_count": 1,
   "id": "cb946086",
   "metadata": {},
   "outputs": [],
   "source": [
    "import tkinter"
   ]
  },
  {
   "cell_type": "code",
   "execution_count": 2,
   "id": "1da84bf8",
   "metadata": {},
   "outputs": [
    {
     "name": "stdout",
     "output_type": "stream",
     "text": [
      "Python 3.11.5\n"
     ]
    }
   ],
   "source": [
    "!python --version"
   ]
  },
  {
   "cell_type": "markdown",
   "id": "d3870af1",
   "metadata": {},
   "source": [
    "# Create Calculater App"
   ]
  },
  {
   "cell_type": "code",
   "execution_count": 3,
   "id": "0994117a",
   "metadata": {},
   "outputs": [],
   "source": [
    "from tkinter import *\n",
    "window=Tk()\n",
    "window.wm_title(\"calculator\")\n",
    "window.wm_geometry(\"600x300\")\n",
    "window.configure(background=\"yellow\")\n",
    "\n",
    "def addition():\n",
    "    a=int(entry1.get())\n",
    "    b=int(entry2.get())\n",
    "    c=a+b\n",
    "    entry3.insert(0,c)\n",
    "    \n",
    "def subtraction():\n",
    "    a=int(entry1.get())\n",
    "    b=int(entry2.get())\n",
    "    c=a-b\n",
    "    entry4.insert(0,c)\n",
    "    \n",
    "def multiplication():\n",
    "    a=int(entry1.get())\n",
    "    b=int(entry2.get())\n",
    "    c=a*b\n",
    "    entry5.insert(0,c)\n",
    "    \n",
    "def division():\n",
    "    a=int(entry1.get())\n",
    "    b=int(entry2.get())\n",
    "    c=a/b\n",
    "    entry6.insert(0,c)\n",
    "    \n",
    "def delete():\n",
    "    entry1.delete(0,END)\n",
    "    entry2.delete(0,END)\n",
    "    entry3.delete(0,END)\n",
    "    entry4.delete(0,END)\n",
    "    entry5.delete(0,END)\n",
    "    entry6.delete(0,END)\n",
    "    \n",
    "label1=Label(window,text=\"Enter No 1: \")\n",
    "label2=Label(window,text=\"Enter No 2: \")\n",
    "\n",
    "entry1=Entry(window)\n",
    "entry2=Entry(window)\n",
    "add=Button(window,text=\"ADD\",command=addition)\n",
    "sub=Button(window,text=\"SUB\",command=subtraction)\n",
    "mult=Button(window,text=\"MULT\",command=multiplication)\n",
    "divide=Button(window,text=\"DIVIDE\",command=division)\n",
    "entry3=Entry(window)\n",
    "entry4=Entry(window)\n",
    "entry5=Entry(window)\n",
    "entry6=Entry(window)\n",
    "clear=Button(window,text=\"CLEAR\",command=delete)\n",
    "\n",
    "label1.grid(row=0,column=0)\n",
    "label2.grid(row=1,column=0)\n",
    "add.grid(row=2,column=0)\n",
    "sub.grid(row=3,column=0)\n",
    "mult.grid(row=4,column=0)\n",
    "divide.grid(row=5,column=0)\n",
    "entry1.grid(row=0,column=1)\n",
    "entry2.grid(row=1,column=1)\n",
    "entry3.grid(row=2,column=1)\n",
    "entry4.grid(row=3,column=1)\n",
    "entry5.grid(row=4,column=1)\n",
    "entry6.grid(row=5,column=1)\n",
    "clear.grid(row=6,column=0)\n",
    "\n",
    "window.mainloop()"
   ]
  },
  {
   "cell_type": "code",
   "execution_count": null,
   "id": "0b340cec",
   "metadata": {},
   "outputs": [],
   "source": []
  },
  {
   "cell_type": "markdown",
   "id": "c6d76769",
   "metadata": {},
   "source": [
    "# Start"
   ]
  },
  {
   "cell_type": "code",
   "execution_count": 1,
   "id": "f1d29978",
   "metadata": {},
   "outputs": [
    {
     "ename": "FileNotFoundError",
     "evalue": "[Errno 2] No such file or directory: 'C:\\\\Users\\\\ipcs\\\\Downloads\\\\bicky_1.csv'",
     "output_type": "error",
     "traceback": [
      "\u001b[1;31m---------------------------------------------------------------------------\u001b[0m",
      "\u001b[1;31mFileNotFoundError\u001b[0m                         Traceback (most recent call last)",
      "Cell \u001b[1;32mIn[1], line 19\u001b[0m\n\u001b[0;32m     15\u001b[0m     \u001b[38;5;28;01melse\u001b[39;00m:\n\u001b[0;32m     16\u001b[0m         messagebox\u001b[38;5;241m.\u001b[39mshowinfo(\u001b[38;5;124m\"\u001b[39m\u001b[38;5;124mInfo\u001b[39m\u001b[38;5;124m\"\u001b[39m, \u001b[38;5;124m\"\u001b[39m\u001b[38;5;124mData already exists\u001b[39m\u001b[38;5;124m\"\u001b[39m)\n\u001b[1;32m---> 19\u001b[0m \u001b[38;5;28;01mwith\u001b[39;00m \u001b[38;5;28;43mopen\u001b[39;49m\u001b[43m(\u001b[49m\u001b[38;5;124;43mr\u001b[39;49m\u001b[38;5;124;43m\"\u001b[39;49m\u001b[38;5;124;43mC:\u001b[39;49m\u001b[38;5;124;43m\\\u001b[39;49m\u001b[38;5;124;43mUsers\u001b[39;49m\u001b[38;5;124;43m\\\u001b[39;49m\u001b[38;5;124;43mipcs\u001b[39;49m\u001b[38;5;124;43m\\\u001b[39;49m\u001b[38;5;124;43mDownloads\u001b[39;49m\u001b[38;5;124;43m\\\u001b[39;49m\u001b[38;5;124;43mbicky_1.csv\u001b[39;49m\u001b[38;5;124;43m\"\u001b[39;49m\u001b[43m,\u001b[49m\u001b[38;5;124;43m\"\u001b[39;49m\u001b[38;5;124;43mw\u001b[39;49m\u001b[38;5;124;43m\"\u001b[39;49m\u001b[43m)\u001b[49m \u001b[38;5;28;01mas\u001b[39;00m file:\n\u001b[0;32m     20\u001b[0m         Writer\u001b[38;5;241m=\u001b[39mwriter(file)\n\u001b[0;32m     21\u001b[0m         Writer\u001b[38;5;241m.\u001b[39mwriterow([\u001b[38;5;124m\"\u001b[39m\u001b[38;5;124mGName\u001b[39m\u001b[38;5;124m\"\u001b[39m,\u001b[38;5;124m\"\u001b[39m\u001b[38;5;124mAge\u001b[39m\u001b[38;5;124m\"\u001b[39m,\u001b[38;5;124m\"\u001b[39m\u001b[38;5;124mGame\u001b[39m\u001b[38;5;124m\"\u001b[39m,\u001b[38;5;124m\"\u001b[39m\u001b[38;5;124mGender\u001b[39m\u001b[38;5;124m\"\u001b[39m,\u001b[38;5;124m\"\u001b[39m\u001b[38;5;124mCity\u001b[39m\u001b[38;5;124m\"\u001b[39m])\n",
      "File \u001b[1;32m~\\AppData\\Roaming\\Python\\Python311\\site-packages\\IPython\\core\\interactiveshell.py:310\u001b[0m, in \u001b[0;36m_modified_open\u001b[1;34m(file, *args, **kwargs)\u001b[0m\n\u001b[0;32m    303\u001b[0m \u001b[38;5;28;01mif\u001b[39;00m file \u001b[38;5;129;01min\u001b[39;00m {\u001b[38;5;241m0\u001b[39m, \u001b[38;5;241m1\u001b[39m, \u001b[38;5;241m2\u001b[39m}:\n\u001b[0;32m    304\u001b[0m     \u001b[38;5;28;01mraise\u001b[39;00m \u001b[38;5;167;01mValueError\u001b[39;00m(\n\u001b[0;32m    305\u001b[0m         \u001b[38;5;124mf\u001b[39m\u001b[38;5;124m\"\u001b[39m\u001b[38;5;124mIPython won\u001b[39m\u001b[38;5;124m'\u001b[39m\u001b[38;5;124mt let you open fd=\u001b[39m\u001b[38;5;132;01m{\u001b[39;00mfile\u001b[38;5;132;01m}\u001b[39;00m\u001b[38;5;124m by default \u001b[39m\u001b[38;5;124m\"\u001b[39m\n\u001b[0;32m    306\u001b[0m         \u001b[38;5;124m\"\u001b[39m\u001b[38;5;124mas it is likely to crash IPython. If you know what you are doing, \u001b[39m\u001b[38;5;124m\"\u001b[39m\n\u001b[0;32m    307\u001b[0m         \u001b[38;5;124m\"\u001b[39m\u001b[38;5;124myou can use builtins\u001b[39m\u001b[38;5;124m'\u001b[39m\u001b[38;5;124m open.\u001b[39m\u001b[38;5;124m\"\u001b[39m\n\u001b[0;32m    308\u001b[0m     )\n\u001b[1;32m--> 310\u001b[0m \u001b[38;5;28;01mreturn\u001b[39;00m \u001b[43mio_open\u001b[49m\u001b[43m(\u001b[49m\u001b[43mfile\u001b[49m\u001b[43m,\u001b[49m\u001b[43m \u001b[49m\u001b[38;5;241;43m*\u001b[39;49m\u001b[43margs\u001b[49m\u001b[43m,\u001b[49m\u001b[43m \u001b[49m\u001b[38;5;241;43m*\u001b[39;49m\u001b[38;5;241;43m*\u001b[39;49m\u001b[43mkwargs\u001b[49m\u001b[43m)\u001b[49m\n",
      "\u001b[1;31mFileNotFoundError\u001b[0m: [Errno 2] No such file or directory: 'C:\\\\Users\\\\ipcs\\\\Downloads\\\\bicky_1.csv'"
     ]
    }
   ],
   "source": [
    "from csv import *\n",
    "from tkinter import *\n",
    "window=Tk()\n",
    "window.title(\"Data Entry\")\n",
    "from tkinter import messagebox\n",
    "\n",
    "mainlist=[]\n",
    "def Add():\n",
    "    temp_list = [entry1.get(), entry2.get(), entry3.get(), entry4.get(), entry5.get()]\n",
    "    \n",
    "\n",
    "    if temp_list not in mainlist:\n",
    "        mainlist.append(temp_list)\n",
    "        messagebox.showinfo(\"Info\", \"Data added successfully\")\n",
    "    else:\n",
    "        messagebox.showinfo(\"Info\", \"Data already exists\")\n",
    "        \n",
    "    \n",
    "with open(r\"C:\\Users\\ipcs\\Downloads\\bicky_1.csv\",\"w\") as file:\n",
    "        Writer=writer(file)\n",
    "        Writer.writerow([\"GName\",\"Age\",\"Game\",\"Gender\",\"City\"])\n",
    "def Save():\n",
    "    for i in mainlist:\n",
    "        with open(r\"C:\\Users\\ipcs\\Downloads\\bicky_1.csv\",\"a\") as file:\n",
    "            Writer=writer(file)\n",
    "            Writer.writerow(i)\n",
    "\n",
    "def Clear():\n",
    "    entry1.delete(0,END)\n",
    "    entry2.delete(0,END)\n",
    "    entry3.delete(0,END)\n",
    "    entry4.delete(0,END)\n",
    "    entry5.delete(0,END)\n",
    "\n",
    "label1=Label(window,text=\"GName: \")\n",
    "label2=Label(window,text=\"Age: \",padx=20,pady=20)\n",
    "label3=Label(window,text=\"Game: \",padx=20,pady=20)\n",
    "label4=Label(window,text=\"Gender: \",padx=20,pady=20)\n",
    "label5=Label(window,text=\"City: \",padx=20,pady=20)\n",
    "\n",
    "entry1=Entry(window,width=30,borderwidth=5)\n",
    "entry2=Entry(window,width=30,borderwidth=5)\n",
    "entry3=Entry(window,width=30,borderwidth=5)\n",
    "entry4=Entry(window,width=30,borderwidth=5)\n",
    "entry5=Entry(window,width=30,borderwidth=5)\n",
    "\n",
    "add=Button(window,text=\"Add\",padx=20,pady=20,bg='yellow',command=Add)\n",
    "save=Button(window,text=\"Save\",padx=20,pady=20,bg='yellow',command=Save)\n",
    "clear=Button(window,text=\"Clear\",padx=20,pady=20,bg='yellow',command=Clear)\n",
    "exit=Button(window,text=\"Exit\",padx=20,pady=20,bg='yellow',command=window.quit)\n",
    "\n",
    "label1.grid(row=0,column=0)\n",
    "label2.grid(row=1,column=0)\n",
    "label3.grid(row=2,column=0)\n",
    "label4.grid(row=3,column=0)\n",
    "label5.grid(row=4,column=0)\n",
    "entry1.grid(row=0,column=1)\n",
    "entry2.grid(row=1,column=1)\n",
    "entry3.grid(row=2,column=1)\n",
    "entry4.grid(row=3,column=1)\n",
    "entry5.grid(row=4,column=1)\n",
    "\n",
    "add.grid(row=5,column=0)\n",
    "save.grid(row=5,column=1)\n",
    "clear.grid(row=5,column=2)\n",
    "exit.grid(row=5,column=3)\n",
    "\n",
    "\n",
    "        \n",
    "window.mainloop()"
   ]
  },
  {
   "cell_type": "code",
   "execution_count": null,
   "id": "2fa31305",
   "metadata": {},
   "outputs": [],
   "source": []
  },
  {
   "cell_type": "code",
   "execution_count": null,
   "id": "ded55d0f",
   "metadata": {},
   "outputs": [],
   "source": []
  }
 ],
 "metadata": {
  "kernelspec": {
   "display_name": "Python 3 (ipykernel)",
   "language": "python",
   "name": "python3"
  },
  "language_info": {
   "codemirror_mode": {
    "name": "ipython",
    "version": 3
   },
   "file_extension": ".py",
   "mimetype": "text/x-python",
   "name": "python",
   "nbconvert_exporter": "python",
   "pygments_lexer": "ipython3",
   "version": "3.11.5"
  }
 },
 "nbformat": 4,
 "nbformat_minor": 5
}
